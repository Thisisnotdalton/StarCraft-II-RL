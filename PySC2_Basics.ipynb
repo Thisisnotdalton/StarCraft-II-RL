{
 "cells": [
  {
   "cell_type": "markdown",
   "metadata": {},
   "source": [
    "<h1>Getting Started with PySC2</h1>\n",
    "<p>For additional information, please refer to the official GitHub repository linked <a href=\"https://github.com/deepmind/pysc2\">here</a>.</p>\n",
    "<p>To get started with PySC2, first verify that you have the proper Python packages installed as well as the mini game maps linked in the PySC2 repository!</p>\n",
    "<p>Please run the following cell to make sure that your computer has all of the proper software setup.</p>\n",
    "<p>If you have everything installed properly, the running the following cell should open an instance of StarCraft with a randomly acting agent playing on the MoveToBeacon map:</p>\n",
    "<div style=\"background-color:#300a24\"><b><p style=\"color:white\">python3 -m pysc2.bin.agent --map MoveToBeacon --agent pysc2.agents.random_agent.RandomAgent</p></b></div>"
   ]
  },
  {
   "cell_type": "markdown",
   "metadata": {},
   "source": [
    "<p>Assuming all of that worked, we will continue by setting up some of the basic configuration for our StarCraft AI. In order to make our AI, we will create a Python class to represent our StarCraft agent. We will make our class inherit from the base agent which PySC2 provides.</p>\n",
    "\n",
    "<p>Some things worth noting are that we define a list of default actions for our agent to use. This will be used to restrict which actions our agent is allowed to perform. To view the list of all valid actions our agent can perform, try entering the following command in a terminal:</p>\n",
    "<div style=\"background-color:#300a24\"><b><p style=\"color:white\">python3 -m pysc2.bin.valid_actions --hide_specific</p></b></div>\n",
    "\n",
    "\n",
    "<p>Running this command produces many lines of output giving you the numerical id's of various StarCraft actions our agent can perform. A smaller subset of actions has been selected with comments with their name so that our agent is not slowed down with too many actions to learn.<p>"
   ]
  },
  {
   "cell_type": "code",
   "execution_count": 29,
   "metadata": {},
   "outputs": [],
   "source": [
    "from pysc2.agents.base_agent import BaseAgent\n",
    "from pysc2.lib import actions\n",
    "\n",
    "default_actions = [\n",
    "   0, #no_op                                              ()\n",
    "   1, #move_camera                                        (1/minimap [64, 64])\n",
    "   2, #select_point                                       (6/select_point_act [4]; 0/screen [84, 84])\n",
    "   3, #select_rect                                        (7/select_add [2]; 0/screen [84, 84]; 2/screen2 [84, 84])\n",
    "   4, #select_control_group                               (4/control_group_act [5]; 5/control_group_id [10])\n",
    "   5, #select_unit                                        (8/select_unit_act [4]; 9/select_unit_id [500])\n",
    "   6, #select_idle_worker                                 (10/select_worker [4])\n",
    "   7, #select_army                                        (7/select_add [2])\n",
    "   8, #select_warp_gates                                  (7/select_add [2])\n",
    "   9, #select_larva                                       ()\n",
    "  10, #unload                                             (12/unload_id [500])\n",
    "  11, #build_queue                                        (11/build_queue_id [10])\n",
    "  12, #Attack_screen                                      (3/queued [2]; 0/screen [84, 84])\n",
    "  13 #Attack_minimap                                     (3/queued [2]; 1/minimap [64, 64])\n",
    "]\n",
    "\n",
    "#This represents the base interface for how our agent will work\n",
    "#We separate this from the StarCraft II agent class so we can focus on the underlying RL\n",
    "#implementation later...\n",
    "class Brain:\n",
    "    def __init__(self, race=\"T\", actions = default_actions):\n",
    "        self.race = race\n",
    "        self.actions = actions\n",
    "    \n",
    "    #By default, our brain will just do nothing.\n",
    "    #We will change this later...\n",
    "    def step(self, obs):\n",
    "        return 0, []\n",
    "\n",
    "\n",
    "#This represents the actual agent which will play StarCraft II\n",
    "class MyAgent(BaseAgent):\n",
    "    def __init__(self, brain = Brain()):\n",
    "        super().__init__() #call parent constructor\n",
    "        assert isinstance(brain, Brain)\n",
    "        self.brain = brain\n",
    "        \n",
    "    def step(self, obs): #This function is called once per frame to give the AI observation data and return its action\n",
    "        super().step(obs) #call parent base method\n",
    "        action, params = self.brain.step(obs)\n",
    "        return actions.FunctionCall(action, params)\n",
    "        \n",
    "agent = MyAgent()"
   ]
  },
  {
   "cell_type": "markdown",
   "metadata": {},
   "source": [
    "<p>From here, we can test our our agent by calling the following cell. The first line exports our notbook code as a Python file. The second line actually runs our agent.</p>"
   ]
  },
  {
   "cell_type": "markdown",
   "metadata": {},
   "source": [
    "<div style=\"background-color:#300a24\"><b><p style=\"color:white\">\n",
    "jupyter nbconvert --to script PySC2_Basics<br>python3 -m pysc2.bin.agent --map MoveToBeacon --agent PySC2_Basics.MyAgent</p></b></div>"
   ]
  },
  {
   "cell_type": "markdown",
   "metadata": {},
   "source": [
    "<p>To scale up our training performance, we will be using the Synchronous Actor Advantage Critic (A2C) reinforcement learning algorithm, which allows us to train our agent multiple times in parallel. Starter code is provided <a href=\"https://github.com/MG2033/A2C\">here</a>.<p>"
   ]
  },
  {
   "cell_type": "code",
   "execution_count": null,
   "metadata": {
    "collapsed": true
   },
   "outputs": [],
   "source": []
  }
 ],
 "metadata": {
  "kernelspec": {
   "display_name": "Python 3",
   "language": "python",
   "name": "python3"
  },
  "language_info": {
   "codemirror_mode": {
    "name": "ipython",
    "version": 3
   },
   "file_extension": ".py",
   "mimetype": "text/x-python",
   "name": "python",
   "nbconvert_exporter": "python",
   "pygments_lexer": "ipython3",
   "version": "3.6.3"
  }
 },
 "nbformat": 4,
 "nbformat_minor": 2
}
