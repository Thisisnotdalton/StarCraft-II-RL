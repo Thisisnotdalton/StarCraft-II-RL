{
 "cells": [
  {
   "cell_type": "markdown",
   "metadata": {},
   "source": [
    "<h1>Getting Started with PySC2</h1>\n",
    "<p>For additional information, please refer to the official GitHub repository linked <a href=\"https://github.com/deepmind/pysc2\">here</a>.</p>\n",
    "<p>To get started with PySC2, first verify that you have the proper Python packages installed as well as the mini game maps linked in the PySC2 repository!</p>\n",
    "<p>Please run the following cell to make sure that your computer has all of the proper software setup.</p>\n",
    "<p>If you have everything installed properly, the running the following cell should open an instance of StarCraft with a randomly acting agent playing on the MoveToBeacon map:</p>\n",
    "<div style=\"background-color:#300a24\"><b><p style=\"color:white\">python3 -m pysc2.bin.agent --map MoveToBeacon --agent pysc2.agents.random_agent.RandomAgent</p></b></div>"
   ]
  },
  {
   "cell_type": "markdown",
   "metadata": {},
   "source": [
    "<h3>Actions</h3>\n",
    "<p>Assuming all of that worked, we will continue by setting up some of the basic configuration for our StarCraft AI. In order to make our AI, we will create a Python class to represent our StarCraft agent. We will make our class inherit from the base agent which PySC2 provides.</p>\n",
    "\n",
    "<p>Some things worth noting are that we define a list of default actions for our agent to use. This will be used to restrict which actions our agent is allowed to perform. To view the list of all valid actions our agent can perform, try entering the following command in a terminal:</p>\n",
    "<div style=\"background-color:#300a24\"><b><p style=\"color:white\">python3 -m pysc2.bin.valid_actions --hide_specific</p></b></div>\n",
    "\n",
    "\n",
    "<p>Running this command produces many lines of output giving you the numerical id's of various StarCraft actions our agent can perform. A smaller subset of actions has been selected with comments with their name so that our agent is not slowed down with too many actions to learn.<p>"
   ]
  },
  {
   "cell_type": "code",
   "execution_count": 1,
   "metadata": {
    "collapsed": true
   },
   "outputs": [],
   "source": [
    "from pysc2.agents.base_agent import BaseAgent\n",
    "from pysc2.lib import actions, features\n",
    "import random\n",
    "import numpy as np\n",
    "\n",
    "default_actions = [\n",
    "   0, #no_op                                              ()\n",
    "   1, #move_camera                                        (1/minimap [64, 64])\n",
    "#   2, #select_point                                       (6/select_point_act [4]; 0/screen [84, 84])\n",
    "#   3, #select_rect                                        (7/select_add [2]; 0/screen [84, 84]; 2/screen2 [84, 84])\n",
    "#   4, #select_control_group                               (4/control_group_act [5]; 5/control_group_id [10])\n",
    "   5, #select_unit                                        (8/select_unit_act [4]; 9/select_unit_id [500])\n",
    "#   6, #select_idle_worker                                 (10/select_worker [4])\n",
    "   7, #select_army                                        (7/select_add [2])\n",
    " #  8, #select_warp_gates                                  (7/select_add [2])\n",
    " #  9, #select_larva                                       ()\n",
    " # 10, #unload                                             (12/unload_id [500])\n",
    " # 11, #build_queue                                        (11/build_queue_id [10])\n",
    " # 12, #Attack_screen                                      (3/queued [2]; 0/screen [84, 84])\n",
    " # 13, #Attack_minimap                                     (3/queued [2]; 1/minimap [64, 64])\n",
    " 331, #Move_screen                                        (3/queued [2]; 0/screen [84, 84])\n",
    " 332 #Move_minimap                                       (3/queued [2]; 1/minimap [64, 64])\n",
    "]\n",
    "\n",
    "\n",
    "_PLAYER_SELF = features.PlayerRelative.SELF\n",
    "_PLAYER_NEUTRAL = features.PlayerRelative.NEUTRAL  # beacon/minerals\n",
    "_PLAYER_ENEMY = features.PlayerRelative.ENEMY\n",
    "\n",
    "\n",
    "#This represents the base interface for how our agent will work\n",
    "#We separate this from the StarCraft II agent class so we can focus on the underlying RL\n",
    "#implementation later...\n",
    "class Brain:\n",
    "    def __init__(self, race=\"T\", actions = default_actions):\n",
    "        self.race = race\n",
    "        self.actions = actions\n",
    "    #By default, our brain will just do nothing.\n",
    "    #We will change this later...\n",
    "    def step(self, obs):\n",
    "        return 0, []\n",
    "        \n",
    "#        if 331 in obs.observation.available_actions:\n",
    "#            player_relative = obs.observation.feature_screen.player_relative\n",
    "#            beacon = _xy_locs(player_relative == _PLAYER_NEUTRAL)\n",
    "#            if not beacon:\n",
    "#                return 0, []\n",
    "#            beacon_center = np.mean(beacon, axis=0).round()\n",
    "#            return 331, [[0], beacon_center]\n",
    "#        else:\n",
    "#            return 7, [[0]]\n",
    "\n",
    "\n",
    "#This represents the actual agent which will play StarCraft II\n",
    "class MyAgent(BaseAgent):\n",
    "    def __init__(self, brain = Brain()):\n",
    "        super().__init__() #call parent constructor\n",
    "        assert isinstance(brain, Brain)\n",
    "        self.brain = brain\n",
    "        \n",
    "    def step(self, obs): #This function is called once per frame to give the AI observation data and return its action\n",
    "        super().step(obs) #call parent base method\n",
    "        action, params = self.brain.step(obs)\n",
    "        return actions.FunctionCall(action, params)\n",
    "        \n",
    "agent = MyAgent()"
   ]
  },
  {
   "cell_type": "code",
   "execution_count": null,
   "metadata": {
    "collapsed": true
   },
   "outputs": [],
   "source": []
  },
  {
   "cell_type": "markdown",
   "metadata": {},
   "source": [
    "<p>From here, we can test our our agent by calling the following cell. The first line exports our notbook code as a Python file. The second line actually runs our agent.</p>"
   ]
  },
  {
   "cell_type": "markdown",
   "metadata": {},
   "source": [
    "<div style=\"background-color:#300a24\"><b><p style=\"color:white\">\n",
    "jupyter nbconvert --to script PySC2_Basics<br>python3 -m pysc2.bin.agent --map MoveToBeacon --agent PySC2_Basics.MyAgent</p></b></div>"
   ]
  },
  {
   "cell_type": "markdown",
   "metadata": {},
   "source": [
    "<p>To scale up our training performance, we will be using the Synchronous Actor Advantage Critic (A2C) reinforcement learning algorithm, which allows us to train our agent multiple times in parallel. Starter code is provided <a href=\"https://github.com/MG2033/A2C\">here</a>. First, we will need to import some modules.<p>"
   ]
  },
  {
   "cell_type": "code",
   "execution_count": 2,
   "metadata": {},
   "outputs": [
    {
     "name": "stderr",
     "output_type": "stream",
     "text": [
      "/home/student/anaconda3/lib/python3.6/importlib/_bootstrap.py:219: RuntimeWarning: compiletime version 3.5 of module 'tensorflow.python.framework.fast_tensor_util' does not match runtime version 3.6\n",
      "  return f(*args, **kwds)\n"
     ]
    }
   ],
   "source": [
    "import tensorflow as tf\n",
    "import numpy as np"
   ]
  },
  {
   "cell_type": "code",
   "execution_count": 3,
   "metadata": {},
   "outputs": [
    {
     "name": "stdout",
     "output_type": "stream",
     "text": [
      "Units shape: (?, 31, 7)\n",
      "Actions shape: (?, 12)\n",
      "Nonspatial features shape: (?, 260)\n",
      "Convolutional1 Shape: (?, 80, 80, 32)\n",
      "Pool Shape1: (?, 40, 40, 32)\n",
      "Convolutional2 Shape: (?, 36, 36, 64)\n",
      "Pool Shape2: (?, 18, 18, 64)\n",
      "Pool flattened shape: (?, 20736)\n",
      "State flat shape: (?, 20996)\n",
      "Hidden Layer 1 shape: (?, 256)\n"
     ]
    }
   ],
   "source": [
    "UNIT_ELEMENTS = 7\n",
    "class StateNet:\n",
    "    def __init__(self, scope, nonspatial_actions = len(default_actions),\n",
    "                 resolution=84, channels=20, max_multi_select=10,\n",
    "                 max_cargo=10, max_build_queue=10, l2_scale=0.01, hidden_size=256):\n",
    "        self.resolution = resolution\n",
    "        #The following assumes that we will stack our minimap and screen features (and they will have the same size)\n",
    "        with tf.variable_scope(scope):\n",
    "            self.structured_observation = tf.placeholder(tf.float32, [None, 11], 'StructuredObservation')\n",
    "            self.single_select = tf.placeholder(tf.float32, [None, 1, UNIT_ELEMENTS], 'SingleSelect')\n",
    "            self.cargo = tf.placeholder(tf.float32, [None,  max_cargo, UNIT_ELEMENTS], 'Cargo')\n",
    "            self.multi_select = tf.placeholder(tf.float32, [None, max_multi_select, UNIT_ELEMENTS], 'Multiselect')\n",
    "            self.build_queue = tf.placeholder(tf.float32, [None,  max_build_queue, UNIT_ELEMENTS], 'BuildQueue')\n",
    "            self.units = tf.concat([self.single_select,\n",
    "                                    self.multi_select,\n",
    "                                    self.cargo,\n",
    "                                    self.build_queue], axis=1)\n",
    "            print('Units shape:',self.units.shape)\n",
    "            self.control_groups = tf.placeholder(tf.float32, [None, 10, 2], 'ControlGroups')\n",
    "            self.available_actions = tf.placeholder(tf.float32, [None, nonspatial_actions], 'AvailableActions')\n",
    "            self.used_actions = tf.placeholder(tf.float32, [None, nonspatial_actions], 'UsedActions')\n",
    "            self.actions = tf.concat([self.available_actions,\n",
    "                                      self.used_actions], axis=1)\n",
    "            print('Actions shape:', self.actions.shape)\n",
    "            self.nonspatial_features = tf.concat([\n",
    "                    self.structured_observation,\n",
    "                    tf.reshape(self.units, [-1, UNIT_ELEMENTS * (1+max_multi_select+max_build_queue+max_cargo)]),\n",
    "                    tf.reshape(self.control_groups, [-1, 20]),\n",
    "                    tf.reshape(self.actions, [-1, 2 * nonspatial_actions])\n",
    "                ], axis=1)\n",
    "            \n",
    "            print('Nonspatial features shape:',self.nonspatial_features.shape)\n",
    "            \n",
    "            self.spatial_features = tf.placeholder(tf.float32, [None, resolution, resolution, channels], 'SpatialFeatures')\n",
    "            self.conv1 = tf.layers.conv2d(inputs=self.spatial_features, filters=32,\n",
    "                                          kernel_size=[5, 5],\n",
    "                                          kernel_regularizer=tf.contrib.layers.l2_regularizer(l2_scale),\n",
    "                                          activation=tf.nn.relu, name='Convolutional1')\n",
    "            print('Convolutional1 Shape:',self.conv1.shape)\n",
    "            self.max_pool1 = tf.layers.max_pooling2d(inputs=self.conv1, pool_size=[2, 2], strides=2, name='Pool1')\n",
    "            print('Pool Shape1:',self.max_pool1.shape)\n",
    "            self.conv2 = tf.layers.conv2d(inputs=self.max_pool1, filters=64,\n",
    "                                          kernel_size=[5, 5],\n",
    "                                          kernel_regularizer=tf.contrib.layers.l2_regularizer(l2_scale),\n",
    "                                          activation=tf.nn.relu, name='Convolutional2')\n",
    "            print('Convolutional2 Shape:',self.conv2.shape)\n",
    "            self.max_pool2 = tf.layers.max_pooling2d(inputs=self.conv2, pool_size=[2, 2], strides=2, name='Pool2')\n",
    "            print('Pool Shape2:',self.max_pool2.shape)\n",
    "            self.max_pool2_flat = tf.reshape(self.max_pool2, [-1, 18 * 18 * 64])\n",
    "            print('Pool flattened shape:', self.max_pool2_flat.shape)\n",
    "            self.state_flattened = tf.concat([self.max_pool2_flat, self.nonspatial_features], 1, name='StateFlattened')\n",
    "            print('State flat shape:', self.state_flattened.shape)\n",
    "            self.hidden_1 = tf.layers.dense(self.state_flattened, hidden_size, tf.nn.relu, name='Hidden1')\n",
    "            print('Hidden Layer 1 shape:',self.hidden_1.shape)\n",
    "            self.output = self.hidden_1\n",
    "            \n",
    "tf.reset_default_graph()\n",
    "test_state = StateNet('test')"
   ]
  },
  {
   "cell_type": "code",
   "execution_count": 4,
   "metadata": {},
   "outputs": [
    {
     "name": "stdout",
     "output_type": "stream",
     "text": [
      "Action probability shape: (?, 6)\n",
      "Argument screen[0] Shape:(?, 84)\n",
      "Argument screen[1] Shape:(?, 84)\n",
      "Argument minimap[0] Shape:(?, 84)\n",
      "Argument minimap[1] Shape:(?, 84)\n",
      "Argument screen2[0] Shape:(?, 84)\n",
      "Argument screen2[1] Shape:(?, 84)\n",
      "Argument queued[0] Shape:(?, 2)\n",
      "Argument control_group_act[0] Shape:(?, 5)\n",
      "Argument control_group_id[0] Shape:(?, 10)\n",
      "Argument select_point_act[0] Shape:(?, 4)\n",
      "Argument select_add[0] Shape:(?, 2)\n",
      "Argument select_unit_act[0] Shape:(?, 4)\n",
      "Argument select_unit_id[0] Shape:(?, 500)\n",
      "Argument select_worker[0] Shape:(?, 4)\n",
      "Argument build_queue_id[0] Shape:(?, 10)\n",
      "Argument unload_id[0] Shape:(?, 500)\n"
     ]
    }
   ],
   "source": [
    "class QNet:\n",
    "    def __init__(self, statenet, scope, usable_actions=default_actions):\n",
    "        self.actions = usable_actions\n",
    "        with tf.variable_scope(scope):\n",
    "            self.action_probability_raw = tf.layers.dense(statenet.output,\n",
    "                                                          len(self.actions),\n",
    "                                                          tf.nn.relu,\n",
    "                                                          name='ActionProbRaw')\n",
    "            self.action_probability = tf.nn.softmax(self.action_probability_raw)\n",
    "            print('Action probability shape:', self.action_probability.shape)\n",
    "            self.arguments = {}\n",
    "            for argument in actions.TYPES:\n",
    "                self.arguments[argument.name] = [] \n",
    "                for dimension, size in enumerate(argument.sizes):\n",
    "                    if size == 0: #set size for screen/minimap coordinates\n",
    "                        size = 1\n",
    "                        if argument.name in ['screen', 'screen2', 'minimap']:\n",
    "                            size = statenet.resolution\n",
    "                    argument_layer = tf.layers.dense(statenet.output, \n",
    "                                                     size, tf.nn.relu,\n",
    "                                                     name='{}{}'.format(argument.name,\n",
    "                                                                        dimension))\n",
    "                    print('Argument {}[{}] Shape:{}'.format(argument.name, dimension, argument_layer.shape))\n",
    "                    self.arguments[argument.name].append(argument_layer)\n",
    "           \n",
    "        \n",
    "test_q = QNet(test_state, 'test')"
   ]
  },
  {
   "cell_type": "code",
   "execution_count": 5,
   "metadata": {},
   "outputs": [],
   "source": [
    "class RLBrain(Brain):\n",
    "    def __init__(self, name, sess=None, race=\"T\", actions = default_actions):\n",
    "        super().__init__()\n",
    "        self.state = StateNet(name)\n",
    "        self.q = QNet(self.state, name)\n",
    "        self.sess = sess\n",
    "    #By default, our brain will just do nothing.\n",
    "    #We will change this later...\n",
    "    def step(self, obs):\n",
    "        #formatting/processing our observation to feed into state/q nets\n",
    "        #determine our action probabilities\n",
    "        #select action randomly with probabilities\n",
    "        #for each required  argument:\n",
    "            #determine argument value probabilities\n",
    "            #select argument value randomly with probabilities\n",
    "        #return action id, arguments\n",
    "        return 0, []"
   ]
  },
  {
   "cell_type": "code",
   "execution_count": 6,
   "metadata": {},
   "outputs": [
    {
     "name": "stdout",
     "output_type": "stream",
     "text": [
      "minimap\n"
     ]
    }
   ],
   "source": [
    "for arg in actions.FUNCTIONS[1].args:\n",
    "    print(arg.name)"
   ]
  },
  {
   "cell_type": "code",
   "execution_count": 7,
   "metadata": {},
   "outputs": [
    {
     "name": "stdout",
     "output_type": "stream",
     "text": [
      "0 \t 0/screen [0, 0]\n",
      "1 \t 1/minimap [0, 0]\n",
      "2 \t 2/screen2 [0, 0]\n",
      "3 \t 3/queued [2]\n",
      "4 \t 4/control_group_act [5]\n",
      "5 \t 5/control_group_id [10]\n",
      "6 \t 6/select_point_act [4]\n",
      "7 \t 7/select_add [2]\n",
      "8 \t 8/select_unit_act [4]\n",
      "9 \t 9/select_unit_id [500]\n",
      "10 \t 10/select_worker [4]\n",
      "11 \t 11/build_queue_id [10]\n",
      "12 \t 12/unload_id [500]\n"
     ]
    }
   ],
   "source": [
    "for i in range(len(actions.TYPES)):\n",
    "    print(i,'\\t',actions.TYPES[i])"
   ]
  },
  {
   "cell_type": "code",
   "execution_count": 8,
   "metadata": {},
   "outputs": [
    {
     "data": {
      "text/plain": [
       "ArgumentType(id=0, name='screen', sizes=(0, 0), fn=<function ArgumentType.point.<locals>.factory.<locals>.<lambda> at 0x7ff8040a7158>, values=None)"
      ]
     },
     "execution_count": 8,
     "metadata": {},
     "output_type": "execute_result"
    }
   ],
   "source": [
    "actions.TYPES[0]"
   ]
  },
  {
   "cell_type": "code",
   "execution_count": 9,
   "metadata": {},
   "outputs": [
    {
     "name": "stdout",
     "output_type": "stream",
     "text": [
      "[10, 10]\n"
     ]
    }
   ],
   "source": [
    "sizes = list(actions.TYPES[0].sizes)\n",
    "for i in range(len(sizes)):\n",
    "    if sizes[i] == 0:\n",
    "        sizes[i] = 10\n",
    "print(sizes)"
   ]
  },
  {
   "cell_type": "code",
   "execution_count": 10,
   "metadata": {},
   "outputs": [
    {
     "data": {
      "text/plain": [
       "'minimap'"
      ]
     },
     "execution_count": 10,
     "metadata": {},
     "output_type": "execute_result"
    }
   ],
   "source": [
    "actions.TYPES[1].name"
   ]
  },
  {
   "cell_type": "code",
   "execution_count": 11,
   "metadata": {},
   "outputs": [
    {
     "data": {
      "text/plain": [
       "(0, 0)"
      ]
     },
     "execution_count": 11,
     "metadata": {},
     "output_type": "execute_result"
    }
   ],
   "source": [
    "actions.TYPES[1].sizes"
   ]
  },
  {
   "cell_type": "code",
   "execution_count": null,
   "metadata": {
    "collapsed": true
   },
   "outputs": [],
   "source": []
  }
 ],
 "metadata": {
  "kernelspec": {
   "display_name": "Python 3",
   "language": "python",
   "name": "python3"
  },
  "language_info": {
   "codemirror_mode": {
    "name": "ipython",
    "version": 3
   },
   "file_extension": ".py",
   "mimetype": "text/x-python",
   "name": "python",
   "nbconvert_exporter": "python",
   "pygments_lexer": "ipython3",
   "version": "3.6.3"
  }
 },
 "nbformat": 4,
 "nbformat_minor": 2
}
